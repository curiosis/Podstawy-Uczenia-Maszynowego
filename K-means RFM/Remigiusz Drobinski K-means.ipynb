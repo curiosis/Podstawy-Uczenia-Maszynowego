{
 "cells": [
  {
   "cell_type": "markdown",
   "id": "passive-stuff",
   "metadata": {},
   "source": [
    "# Zadanie\n",
    "\n",
    "Otrzymałeś zadanie pogrupowania klientów dużego sklepu online.\n",
    "Użyj metody RFM (recency, frequency, monetary value) oraz metody kwantyli (K-means) aby przekazać\n",
    "pracownikom działu marketingu kilka wersji segmentacji behawioralnej.\n",
    "W końcowych rozważaniach scharakteryzuj powstałe grupy i wybierz model twoim zdaniem najlepszy."
   ]
  },
  {
   "cell_type": "markdown",
   "id": "compact-tracy",
   "metadata": {},
   "source": [
    "## Metoda RFM\n",
    "\n",
    "RFM to narzędzie analizy marketingowej służące do identyfikacji najlepszych klientów firmy lub organizacji za pomocą określonych miar. \n",
    "\n",
    "Model RFM opiera się na trzech czynnikach:\n",
    "\n",
    "* recency: jak niedawno klient dokonał zakupu\n",
    "* frequency: jak często klient dokonuje zakupu\n",
    "* monetary value: ile pieniędzy klient wydaje na zakupy\n",
    "\n",
    "Analiza RFM pomaga firmom rozsądnie przewidzieć, którzy klienci są bardziej skłonni do ponownych zakupów w przyszłości, ile przychodów pochodzi od nowych (w porównaniu z powracającymi klientami) i jak zmienić okazjonalnych kupujących w stałych klientów."
   ]
  },
  {
   "cell_type": "markdown",
   "id": "ethical-certification",
   "metadata": {},
   "source": [
    "## Zbiór danych\n",
    "\n",
    "\n",
    "* <a href=\"https://archive.ics.uci.edu/ml/datasets/Online+Retail+II\" target=\"_blank\">Link do zbioru danych</a> \n",
    "* Autor - Dr. Daqing Chen\n",
    "* Data publikacji - 2019-09-21\n",
    "* Liczba obserwacji początkowa - 1067371\n",
    "* Liczba atrybutów - 8\n",
    "* Brakujące wartości - TAK"
   ]
  },
  {
   "cell_type": "markdown",
   "id": "thermal-drive",
   "metadata": {},
   "source": [
    "## Zbiór danych - atrybuty\n",
    "\n",
    "1. **Invoice** - numer faktury, 6-cyfrowy numer jednoznacznie przypisany do każdej transakcji. Jeśli kod rozpoczyna się od litery 'c', oznacza to fakturę anulowaną.\n",
    "2. **StockCode** - kod produktu, 5-cyfrowy numer jednoznacznie przypisany do każdego odrębnego produktu\n",
    "3. **Description** - opis\n",
    "4. **Quantity** - ilość każdego produktu na transakcję\n",
    "5. **InvoiceDate** - data i godzina wystawienia faktury\n",
    "6. **Price** - cena jednostkowa\n",
    "7. **Customer ID** - numer klienta\n",
    "8. **Country** - nazwa kraju, z którego pochodzi klient"
   ]
  },
  {
   "cell_type": "markdown",
   "id": "offshore-sport",
   "metadata": {},
   "source": [
    "# Realizacja zadania"
   ]
  },
  {
   "cell_type": "markdown",
   "id": "three-bidding",
   "metadata": {},
   "source": [
    "### Biblioteki\n",
    "\n",
    "Na samym początku wczytuję potrzebne do realizacji zadania biblioteki"
   ]
  },
  {
   "cell_type": "code",
   "execution_count": 78,
   "id": "clear-distributor",
   "metadata": {},
   "outputs": [],
   "source": [
    "import pandas as pd\n",
    "import numpy as np\n",
    "import seaborn as sns\n",
    "import matplotlib.pyplot as plt\n",
    "from sklearn.cluster import KMeans"
   ]
  },
  {
   "cell_type": "markdown",
   "id": "miniature-shark",
   "metadata": {},
   "source": [
    "### Pandas options\n",
    "\n",
    "Za pomocą 'pandas' ustawiam formatowanie zmiennych ciągłych z precyzją do trzech miejsc po przecinku oraz ustawiam wyświetlanie wszystkich kolumn."
   ]
  },
  {
   "cell_type": "code",
   "execution_count": 79,
   "id": "recovered-population",
   "metadata": {},
   "outputs": [],
   "source": [
    "pd.set_option('float_format', '{:.3f}'.format)\n",
    "pd.set_option(\"display.max_columns\", 999)"
   ]
  },
  {
   "cell_type": "markdown",
   "id": "trying-valentine",
   "metadata": {},
   "source": [
    "### Dataset\n",
    "\n",
    "Przy pomocy 'pandas' wczytuję plik danych oraz ustawiam nazwy kolumn. Jest to przydatne przy atrybucie 'Customer ID' aby uniknąć spacji w nazwie."
   ]
  },
  {
   "cell_type": "code",
   "execution_count": 80,
   "id": "outside-cinema",
   "metadata": {},
   "outputs": [
    {
     "name": "stderr",
     "output_type": "stream",
     "text": [
      "C:\\Users\\curio\\AppData\\Roaming\\Python\\Python39\\site-packages\\IPython\\core\\interactiveshell.py:3165: DtypeWarning: Columns (3,5,6) have mixed types.Specify dtype option on import or set low_memory=False.\n",
      "  has_raised = await self.run_ast_nodes(code_ast.body, cell_name,\n"
     ]
    }
   ],
   "source": [
    "df = pd.read_csv('online_retail_II.csv')\n",
    "df.columns = ['Invoice', 'StockCode', 'Description', 'Quantity', 'InvoiceDate', 'Price', 'CustomerID', 'Country']"
   ]
  },
  {
   "cell_type": "markdown",
   "id": "unknown-debate",
   "metadata": {},
   "source": [
    "### Typy zmiennych\n",
    "\n",
    "Jak można zauważyć przy konwersji pliku danych wystąpiły pewne komplikacje. \n",
    "Sprawdzam jakie typy mają atrybuty."
   ]
  },
  {
   "cell_type": "code",
   "execution_count": 81,
   "id": "surgical-limit",
   "metadata": {},
   "outputs": [
    {
     "name": "stdout",
     "output_type": "stream",
     "text": [
      "Invoice        object\n",
      "StockCode      object\n",
      "Description    object\n",
      "Quantity       object\n",
      "InvoiceDate    object\n",
      "Price          object\n",
      "CustomerID     object\n",
      "Country        object\n",
      "dtype: object\n"
     ]
    }
   ],
   "source": [
    "print(df.dtypes)"
   ]
  },
  {
   "cell_type": "markdown",
   "id": "documented-answer",
   "metadata": {},
   "source": [
    "### Brakujące wartości\n",
    "Typy atrybutów zostały nadpisane wszędzie jako 'object'.\n",
    "Naprawą tego błędu zajmę się za chwilę.\n",
    "W opisie bazy danych widnieje informacja o brakujących wartościach.\n",
    "Sprawdzam ile ich jest i jakie to zmienne."
   ]
  },
  {
   "cell_type": "code",
   "execution_count": 82,
   "id": "aerial-separate",
   "metadata": {},
   "outputs": [
    {
     "name": "stdout",
     "output_type": "stream",
     "text": [
      "              Dtype  Nulls     Sum\n",
      "Invoice      object  False       0\n",
      "StockCode    object  False       0\n",
      "Description  object   True    4382\n",
      "Quantity     object  False       0\n",
      "InvoiceDate  object  False       0\n",
      "Price        object  False       0\n",
      "CustomerID   object   True  243007\n",
      "Country      object  False       0\n"
     ]
    }
   ],
   "source": [
    "summary = pd.DataFrame(df.dtypes, columns=['Dtype'])\n",
    "summary['Nulls'] = pd.DataFrame(df.isnull().any())\n",
    "summary['Sum'] = pd.DataFrame(df.isnull().sum())\n",
    "summary.Dtype = summary.Dtype.astype(str)\n",
    "print(summary)"
   ]
  },
  {
   "cell_type": "markdown",
   "id": "certified-cattle",
   "metadata": {},
   "source": [
    "### Ilość obserwacji\n",
    "\n",
    "Przed eliminacją obserwacji z brakującymi wartościami sprawdzam ile jest obserwacji na ten moment."
   ]
  },
  {
   "cell_type": "code",
   "execution_count": 83,
   "id": "thirty-catholic",
   "metadata": {},
   "outputs": [
    {
     "name": "stdout",
     "output_type": "stream",
     "text": [
      "Pozostało 1067372 obserwacji.\n"
     ]
    }
   ],
   "source": [
    "print('Pozostało ' + str(df.shape[0]) + ' obserwacji.')"
   ]
  },
  {
   "cell_type": "markdown",
   "id": "proof-instruction",
   "metadata": {},
   "source": [
    "### Braki danych jako procenty\n",
    "\n",
    "Wyświetlam dla lepszego zobrazowania sytuacji ile obserwacji zawiera błędy względem wszystkich obserwacji."
   ]
  },
  {
   "cell_type": "code",
   "execution_count": 84,
   "id": "published-intensity",
   "metadata": {},
   "outputs": [
    {
     "name": "stdout",
     "output_type": "stream",
     "text": [
      "22.77% obserwacji zawiera braki w danych.\n"
     ]
    }
   ],
   "source": [
    "print(str(round(df.isnull().any(axis=1).sum() / df.shape[0] * 100, 2)) + '% obserwacji zawiera braki w danych.')"
   ]
  },
  {
   "cell_type": "markdown",
   "id": "emotional-publication",
   "metadata": {},
   "source": [
    "### Pierwsze wnioski\n",
    "\n",
    "* Istnieją klienci bez identyfikatora\n",
    "* Dwa atrybuty zawierają braki w wartościach (CustomerID oraz Description)\n",
    "* Aby segmentacja była rzetelna jestem zmuszony usunąć wiersze obserwacji zawierające błedy"
   ]
  },
  {
   "cell_type": "markdown",
   "id": "similar-married",
   "metadata": {},
   "source": [
    "### Usuwanie wierszy - CustomerID\n",
    "\n",
    "Usuwam wiersze obserwacji, gdzie CustomerID jest null (klienci bez identyfikatora).\n",
    "Sprawdzam ile wierszy obserwacji pozostało po tej operacji."
   ]
  },
  {
   "cell_type": "code",
   "execution_count": 85,
   "id": "computational-metallic",
   "metadata": {},
   "outputs": [
    {
     "name": "stdout",
     "output_type": "stream",
     "text": [
      "Pozostało 824365 obserwacji.\n"
     ]
    }
   ],
   "source": [
    "df = df[~df.CustomerID.isnull()]\n",
    "print('Pozostało ' + str(df.shape[0]) + ' obserwacji.')"
   ]
  },
  {
   "cell_type": "markdown",
   "id": "considered-bottom",
   "metadata": {},
   "source": [
    "### Usuwanie wierszy - anulowane faktury\n",
    "\n",
    "Usuwam wiersze, gdzie w numerze faktury występują inne znaki niż cyfry. Wprowadzenie do modelu faktur, które zostały anulowane z nieznanych nam przyczyn mogłoby wprowadzić w błąd. Sprawdzam ponadto ile wierszy obserwacji pozostało po tej operacji."
   ]
  },
  {
   "cell_type": "code",
   "execution_count": 86,
   "id": "danish-lawyer",
   "metadata": {},
   "outputs": [
    {
     "name": "stdout",
     "output_type": "stream",
     "text": [
      "Pozostało 805620 obserwacji.\n"
     ]
    }
   ],
   "source": [
    "df = df[df.Invoice.astype('str').str.isdigit()]\n",
    "print('Pozostało ' + str(df.shape[0]) + ' obserwacji.')"
   ]
  },
  {
   "cell_type": "markdown",
   "id": "widespread-congress",
   "metadata": {},
   "source": [
    "### Braki danych jako procenty\n",
    "\n",
    "Upewniam się że wszelkie wiersze, zawierające braki zostały usunięte.\n",
    "Jak widać zostały usunięte wszystkie wiersze gdzie niewystępował opis.\n",
    "Te wiersze moglibyśmy pominąć, wszak opis nam nie wadzi, jednak wniosek z tego taki, że wiersze z brakującym opisem były podzbiorem zbioru wierszy o niezidentyfikowanym numerze klienta."
   ]
  },
  {
   "cell_type": "code",
   "execution_count": 87,
   "id": "beautiful-arrest",
   "metadata": {
    "scrolled": true
   },
   "outputs": [
    {
     "name": "stdout",
     "output_type": "stream",
     "text": [
      "0.0% obserwacji zawiera braki w danych.\n",
      "\n",
      "              Dtype  Nulls  Sum\n",
      "Invoice      object  False    0\n",
      "StockCode    object  False    0\n",
      "Description  object  False    0\n",
      "Quantity     object  False    0\n",
      "InvoiceDate  object  False    0\n",
      "Price        object  False    0\n",
      "CustomerID   object  False    0\n",
      "Country      object  False    0\n"
     ]
    }
   ],
   "source": [
    "print(str(round(df.isnull().any(axis=1).sum() / df.shape[0] * 100, 3)) + '% obserwacji zawiera braki w danych.\\n')\n",
    "summary = pd.DataFrame(df.dtypes, columns=['Dtype'])\n",
    "summary['Nulls'] = pd.DataFrame(df.isnull().any())\n",
    "summary['Sum'] = pd.DataFrame(df.isnull().sum())\n",
    "summary.Dtype = summary.Dtype.astype(str)\n",
    "print(summary)"
   ]
  },
  {
   "cell_type": "markdown",
   "id": "proof-chrome",
   "metadata": {},
   "source": [
    "### Usuwanie zbędnych atrybutów\n",
    "\n",
    "Usuwam kolumny z atrybutami, które nie będą nam potrzebne. Są to kolejno: opis, kod produktu oraz kraj, z którego pochodzi klient."
   ]
  },
  {
   "cell_type": "code",
   "execution_count": 88,
   "id": "united-notification",
   "metadata": {},
   "outputs": [],
   "source": [
    "df.drop(['Description', 'StockCode', 'Country'], axis = 1, inplace = True)"
   ]
  },
  {
   "cell_type": "markdown",
   "id": "massive-garage",
   "metadata": {},
   "source": [
    "### Zmiana typów\n",
    "\n",
    "Podczas konwersji pliku ze zbiorem danych nastąpiły pewne komplikacje - typy zmiennych zostały nadpisane jako 'object'. Naprawiam to, zmieniając typy poszczególnych atrybutów. Dla pewności wyświetlam informacje o nich."
   ]
  },
  {
   "cell_type": "code",
   "execution_count": 89,
   "id": "incoming-rating",
   "metadata": {},
   "outputs": [],
   "source": [
    "df['CustomerID'] = df.CustomerID.astype(int)\n",
    "df['Invoice'] = df.Invoice.astype(int)\n",
    "df['Quantity'] = df.Quantity.astype(int)\n",
    "df['Price'] = df.Price.astype(float)\n",
    "df['InvoiceDate'] = pd.to_datetime(df['InvoiceDate'])"
   ]
  },
  {
   "cell_type": "code",
   "execution_count": 90,
   "id": "modern-vulnerability",
   "metadata": {},
   "outputs": [
    {
     "name": "stdout",
     "output_type": "stream",
     "text": [
      "Invoice                 int32\n",
      "Quantity                int32\n",
      "InvoiceDate    datetime64[ns]\n",
      "Price                 float64\n",
      "CustomerID              int32\n",
      "dtype: object\n"
     ]
    }
   ],
   "source": [
    "print(df.dtypes)"
   ]
  },
  {
   "cell_type": "markdown",
   "id": "primary-benjamin",
   "metadata": {},
   "source": [
    "### Stare transakcje\n",
    "\n",
    "W grupowaniu metodą RFM zazwyczaj przyjmuje się, że brane pod uwagę są jedynie operacje z ostatnich 12 miesięcy. Przyczyna takiego zabiegu jest prosta: starsze operacje mogą niewiele mówić o obecnej sytuacji sprzedającego, kupującego i o samym produkcie. Oczywiście mowa o przypadku ogólnym. Są branże, w których relacja z klientem i produkt ma zdecydowanie dłuższy cykl życia.\n",
    "\n",
    "Uznajmy, że dział marketingu zażyczył sobie aby brać pod uwagę transakcję sprzed dwóch lat od najnowszej transakcji.\n",
    "\n",
    "Gdybym rozpatrywał przypadek gdzie liczyłbym od dnia dzisiejszego, tj. 01/04/2021 niemiałbym na czym działać, gdyż dane są dość wiekowe.\n",
    "\n",
    "Przypisuję datę najnowszej transakcji do zmiennej oraz pozostawiam tylko te transakcje do dwóch lat wstecz."
   ]
  },
  {
   "cell_type": "code",
   "execution_count": 92,
   "id": "forbidden-impact",
   "metadata": {},
   "outputs": [
    {
     "name": "stdout",
     "output_type": "stream",
     "text": [
      "2011-12-09 12:50:00\n"
     ]
    }
   ],
   "source": [
    "lastInvoice = df.InvoiceDate.max()\n",
    "print(lastInvoice)"
   ]
  },
  {
   "cell_type": "code",
   "execution_count": 93,
   "id": "sonic-stadium",
   "metadata": {},
   "outputs": [
    {
     "name": "stdout",
     "output_type": "stream",
     "text": [
      "Pozostało 790647 obserwacji.\n"
     ]
    }
   ],
   "source": [
    "df = df[df.InvoiceDate >= lastInvoice - pd.to_timedelta(365*2, \"D\")]\n",
    "print('Pozostało ' + str(df.shape[0]) + ' obserwacji.')"
   ]
  },
  {
   "cell_type": "markdown",
   "id": "recognized-tunisia",
   "metadata": {},
   "source": [
    "### Monetary value\n",
    "\n",
    "Aby móc przeprowadzić metodę RFM dodaję zmienną MonetaryValue, która jest iloczynem ilości produktów i ceny jednostkowej.\n",
    "Dodatkowo wyświetlam informacje o tym atrybucie."
   ]
  },
  {
   "cell_type": "code",
   "execution_count": 99,
   "id": "abandoned-handy",
   "metadata": {},
   "outputs": [
    {
     "name": "stdout",
     "output_type": "stream",
     "text": [
      "count   790647.000\n",
      "mean        22.036\n",
      "std        225.957\n",
      "min          0.000\n",
      "25%          4.950\n",
      "50%         11.850\n",
      "75%         19.500\n",
      "max     168469.600\n",
      "Name: MonetaryValue, dtype: float64\n"
     ]
    }
   ],
   "source": [
    "df['MonetaryValue'] = df.Quantity * df.Price\n",
    "print(df.MonetaryValue.describe())"
   ]
  },
  {
   "cell_type": "markdown",
   "id": "searching-event",
   "metadata": {},
   "source": [
    "### Recency\n",
    "\n",
    "Metoda RFM zakłada także występowanie zmiennej Recency, czyli informacja o tym, jak dawno klient robił zakupy w sklepie."
   ]
  },
  {
   "cell_type": "code",
   "execution_count": 100,
   "id": "assured-lawrence",
   "metadata": {},
   "outputs": [],
   "source": [
    "df['Recency'] = (lastInvoice - df.InvoiceDate)/np.timedelta64(1,'D')"
   ]
  },
  {
   "cell_type": "markdown",
   "id": "retired-destruction",
   "metadata": {},
   "source": [
    "### Frequency\n",
    "\n",
    "Do tej pory operowałem na poziomie pojedynczego produktu. By wykonać grupowanie RFM muszę przejść do agregacji na poziomie klienta. Dodatkowo zmieniam nazwę zmiennych i wyświetlam dane."
   ]
  },
  {
   "cell_type": "code",
   "execution_count": 106,
   "id": "alpine-moisture",
   "metadata": {},
   "outputs": [],
   "source": [
    "rfm = df.groupby(['CustomerID']).agg({'Recency':'min', 'MonetaryValue':'sum', 'Invoice':'count'})"
   ]
  },
  {
   "cell_type": "code",
   "execution_count": 107,
   "id": "earned-consumption",
   "metadata": {},
   "outputs": [
    {
     "name": "stdout",
     "output_type": "stream",
     "text": [
      "            Recency  Frequency  MonetaryValue\n",
      "CustomerID                                   \n",
      "12346       325.117         34      77556.460\n",
      "12347         1.874        253       5633.320\n",
      "12348        74.984         51       2019.400\n",
      "12349        18.124        175       4428.690\n",
      "12350       309.867         17        334.400\n",
      "...             ...        ...            ...\n",
      "18283         3.033        986       2736.650\n",
      "18284       431.053         28        461.680\n",
      "18285       660.101         12        427.000\n",
      "18286       476.037         67       1296.430\n",
      "18287        42.140        155       4182.990\n",
      "\n",
      "[5836 rows x 3 columns]\n"
     ]
    }
   ],
   "source": [
    "rfm.rename(columns = {'Invoice':'Frequency'}, inplace = True)\n",
    "rfm = rfm[['Recency', 'Frequency', 'MonetaryValue']]\n",
    "print(rfm)"
   ]
  },
  {
   "cell_type": "markdown",
   "id": "collaborative-danger",
   "metadata": {},
   "source": [
    "### Transformacja zmiennych\n",
    "\n",
    "Metoda RFM wymaga zmiennych porządkowych. Zrobię to za pomocą percentyli rozkładu danej zmiennej. Wartości będą równe 0, 1, 2 lub 3. Wyższa etykieta oznacza lepszą sytuację z punkty widzenia sprzedającego. Wyświetlam dane i tak pierwszego klienta można scharakteryzować jako osobę, która dużo wydała w sklepie, rzadko robi zakupy a zakupy robiła w niedalekiej przeszłości."
   ]
  },
  {
   "cell_type": "code",
   "execution_count": 110,
   "id": "accessory-evanescence",
   "metadata": {},
   "outputs": [
    {
     "name": "stdout",
     "output_type": "stream",
     "text": [
      "[[2 1 3]\n",
      " [0 3 3]\n",
      " [1 1 2]\n",
      " ...\n",
      " [3 0 1]\n",
      " [3 2 2]\n",
      " [1 3 3]]\n"
     ]
    }
   ],
   "source": [
    "r = pd.qcut(rfm.Recency, 4, labels = list(range(0,4)))\n",
    "f = pd.qcut(rfm.Frequency, 4, labels = list(range(0,4)))\n",
    "m = pd.qcut(rfm.MonetaryValue, 4, labels = list(range(0,4)))\n",
    "rfm_cutted = pd.DataFrame({'Recency' : r, 'Frequency' : f, 'MonetaryValue' : m})\n",
    "rfm_raw = rfm_cutted.values\n",
    "print(rfm_raw)"
   ]
  },
  {
   "cell_type": "markdown",
   "id": "economic-carpet",
   "metadata": {},
   "source": [
    "### Wybór odpowiedniej liczby grup\n",
    "\n",
    "Inercja to metryka używana do szacowania, jak blisko klastra znajdują się punkty danych. Oblicza się ją jako sumę kwadratów odległości dla każdego punktu względem najbliższego środka ciężkości, tj. Przypisanego środka gromady. Interwencja inercji polega na tym, że klastry o mniejszej inercji są lepsze, ponieważ zaznaczają blisko powiązane punkty tworzące klaster."
   ]
  },
  {
   "cell_type": "code",
   "execution_count": 120,
   "id": "fancy-fairy",
   "metadata": {},
   "outputs": [
    {
     "name": "stdout",
     "output_type": "stream",
     "text": [
      "    liczbaGrup   inercja\n",
      "0            2 10129.974\n",
      "1            3  7851.859\n",
      "2            4  5560.941\n",
      "3            5  4907.988\n",
      "4            6  3979.155\n",
      "5            7  3703.274\n",
      "6            8  3318.774\n",
      "7            9  3127.787\n",
      "8           10  2794.766\n",
      "9           11  2687.992\n",
      "10          12  2433.612\n",
      "11          13  2181.097\n",
      "12          14  2099.030\n",
      "13          15  1958.320\n",
      "14          16  1805.164\n",
      "15          17  1666.586\n",
      "16          18  1587.986\n",
      "17          19  1402.610\n"
     ]
    }
   ],
   "source": [
    "res = []\n",
    "for n in range(2, 20):\n",
    "    kmeans = KMeans(n_clusters=n)\n",
    "    kmeans.fit(rfm_raw)\n",
    "    res.append([n, kmeans.inertia_])\n",
    "res = pd.DataFrame(res, columns = ['liczbaGrup', 'inercja'])\n",
    "print(res)"
   ]
  },
  {
   "cell_type": "markdown",
   "id": "verbal-hopkins",
   "metadata": {},
   "source": [
    "### Wykres do wyboru ilości grup\n",
    "\n",
    "Jak widać im więcej grup tym inercja mniejsza, jednak z logicznego punktu widzenia nie ma sensu w aspekcie marketingowym rozbijania klientów na kilkanaście czy nawet kilkadziesiąt grup. Ładne 'spadki' inercji jest dla czterech, sześciu oraz ośmiu grup. Właśnie dla tych wartości przeprowadzę analizę."
   ]
  },
  {
   "cell_type": "code",
   "execution_count": 117,
   "id": "monthly-admission",
   "metadata": {
    "scrolled": false
   },
   "outputs": [
    {
     "data": {
      "image/png": "[encoded data removed]",
      "text/plain": [
       "<Figure size 720x504 with 1 Axes>"
      ]
     },
     "metadata": {},
     "output_type": "display_data"
    }
   ],
   "source": [
    "plt.figure(figsize=(10,7))\n",
    "sns.set(font_scale=1.4, style=\"whitegrid\")\n",
    "sns.lineplot(data = res, x = 'liczbaGrup', y = 'inercja')\n",
    "plt.title(\"Miara odmienności grup vs liczba grup\")\n",
    "plt.axvline(x = 4, linestyle = '--')\n",
    "plt.axvline(x = 6, linestyle = '--')\n",
    "plt.axvline(x = 8, linestyle = '--')\n",
    "plt.xticks(np.arange(2.0, 20, 1.0))\n",
    "plt.show()"
   ]
  },
  {
   "cell_type": "markdown",
   "id": "velvet-voltage",
   "metadata": {},
   "source": [
    "## Model dla czterech klastrów (n=4)"
   ]
  },
  {
   "cell_type": "code",
   "execution_count": 124,
   "id": "severe-travel",
   "metadata": {},
   "outputs": [],
   "source": [
    "model = KMeans(n_clusters=4)\n",
    "groups = model.fit_predict(rfm_raw)\n",
    "rfm['groups'] = groups"
   ]
  },
  {
   "cell_type": "markdown",
   "id": "decent-healthcare",
   "metadata": {},
   "source": [
    "### Rozkład liczebności poszczególnych grup"
   ]
  },
  {
   "cell_type": "code",
   "execution_count": 126,
   "id": "professional-midnight",
   "metadata": {},
   "outputs": [
    {
     "name": "stdout",
     "output_type": "stream",
     "text": [
      "1   31.614\n",
      "2   26.851\n",
      "3   23.115\n",
      "0   18.420\n"
     ]
    }
   ],
   "source": [
    "print((rfm.groups.value_counts(normalize = True, sort = True) * 100).to_string())"
   ]
  },
  {
   "cell_type": "markdown",
   "id": "empirical-wisconsin",
   "metadata": {},
   "source": [
    "### Statystyki dla poszczególnych grup"
   ]
  },
  {
   "cell_type": "code",
   "execution_count": 127,
   "id": "brutal-compiler",
   "metadata": {},
   "outputs": [
    {
     "name": "stdout",
     "output_type": "stream",
     "text": [
      "       Recency Frequency MonetaryValue\n",
      "          mean      mean          mean\n",
      "groups                                \n",
      "0       38.527    35.013       793.591\n",
      "1      402.928    20.912       354.060\n",
      "2       23.643   354.199      8138.509\n",
      "3      242.439   118.158      2344.960\n"
     ]
    }
   ],
   "source": [
    "print(rfm.groupby('groups').agg(['mean']))"
   ]
  },
  {
   "cell_type": "markdown",
   "id": "elegant-vietnam",
   "metadata": {},
   "source": [
    "### Interpretacja powstałych grup"
   ]
  },
  {
   "cell_type": "markdown",
   "id": "commercial-wisconsin",
   "metadata": {},
   "source": [
    "**Grupa 0** - klienci, którzy\n",
    "\n",
    "    * robią zakupy za niewielkie kwoty\n",
    "    * kupują rzadko\n",
    "    * niedawno robili zakupy\n",
    "    \n",
    "**Grupa 1** - klienci, którzy\n",
    "\n",
    "    * robią zakupy za niskie kwoty\n",
    "    * kupują rzadko\n",
    "    * od bardzo dawna nie robili zakupów\n",
    "    \n",
    "**Grupa 2** - klienci, którzy\n",
    "\n",
    "    * robią zakupy za wysokie kwoty\n",
    "    * kupują często\n",
    "    * niedawno robili zakupy\n",
    "    \n",
    "**Grupa 3** - klienci, którzy\n",
    "\n",
    "    * robią zakupy za duże kwoty\n",
    "    * kupują umiarkowanie często\n",
    "    * od dawna nie robili zakupów"
   ]
  },
  {
   "cell_type": "markdown",
   "id": "cardiovascular-couple",
   "metadata": {},
   "source": [
    "## Model dla sześciu klastrów (n=6)"
   ]
  },
  {
   "cell_type": "code",
   "execution_count": 136,
   "id": "hydraulic-vector",
   "metadata": {},
   "outputs": [],
   "source": [
    "model = KMeans(n_clusters=6)\n",
    "groups = model.fit_predict(rfm_raw)\n",
    "rfm['groups'] = groups"
   ]
  },
  {
   "cell_type": "markdown",
   "id": "major-toilet",
   "metadata": {},
   "source": [
    "### Rozkład liczebności poszczególnych grup"
   ]
  },
  {
   "cell_type": "code",
   "execution_count": 137,
   "id": "located-leave",
   "metadata": {},
   "outputs": [
    {
     "name": "stdout",
     "output_type": "stream",
     "text": [
      "1   22.978\n",
      "0   21.899\n",
      "5   15.661\n",
      "2   13.674\n",
      "3   13.348\n",
      "4   12.440\n"
     ]
    }
   ],
   "source": [
    "print((rfm.groups.value_counts(normalize = True, sort = True) * 100).to_string())"
   ]
  },
  {
   "cell_type": "markdown",
   "id": "satisfied-choir",
   "metadata": {},
   "source": [
    "### Statystyki dla poszczególnych grup"
   ]
  },
  {
   "cell_type": "code",
   "execution_count": 138,
   "id": "intense-waste",
   "metadata": {},
   "outputs": [
    {
     "name": "stdout",
     "output_type": "stream",
     "text": [
      "       Recency Frequency MonetaryValue\n",
      "          mean      mean          mean\n",
      "groups                                \n",
      "0      422.950    14.667       236.843\n",
      "1       25.594   398.560      9222.199\n",
      "2       35.308    80.129      1715.137\n",
      "3       39.271    24.764       451.946\n",
      "4      274.955   156.669      3012.906\n",
      "5      345.385    44.265       924.481\n"
     ]
    }
   ],
   "source": [
    "print(rfm.groupby('groups').agg(['mean']))"
   ]
  },
  {
   "cell_type": "markdown",
   "id": "initial-queen",
   "metadata": {},
   "source": [
    "### Interpretacja powstałych grup"
   ]
  },
  {
   "cell_type": "markdown",
   "id": "decreased-value",
   "metadata": {},
   "source": [
    "**Grupa 0** - klienci, którzy\n",
    "\n",
    "    * robią zakupy za bardzo niskie kwoty\n",
    "    * kupują bardzo rzadko\n",
    "    * od dawna nie robili zakupów\n",
    "    \n",
    "**Grupa 1** - klienci, którzy\n",
    "\n",
    "    * robią zakupy za bardzo wysokie kwoty\n",
    "    * kupują bardzo często\n",
    "    * niedawno robili zakupy\n",
    "    \n",
    "**Grupa 2** - klienci, którzy\n",
    "\n",
    "    * robią zakupy za duże kwoty\n",
    "    * kupują umiarkowanie często\n",
    "    * niedawno robili zakupy\n",
    "    \n",
    "**Grupa 3** - klienci, którzy\n",
    "\n",
    "    * robią zakupy za niskie kwoty\n",
    "    * kupują  rzadko\n",
    "    * niedawno robili zakupy\n",
    "    \n",
    "**Grupa 4** - klienci, którzy\n",
    "\n",
    "    * robią zakupy za wysokie kwoty\n",
    "    * kupują często\n",
    "    * od dłuższego czasu nie robili zakupów\n",
    "    \n",
    "**Grupa 5** - klienci, którzy\n",
    "\n",
    "    * robią zakupy za umiarkowane kwoty\n",
    "    * kupują umiarkowanie często\n",
    "    * od długiego czasu nie robili zakupów\n"
   ]
  },
  {
   "cell_type": "markdown",
   "id": "after-backup",
   "metadata": {},
   "source": [
    "## Model dla ośmiu klastrów (n=8)"
   ]
  },
  {
   "cell_type": "code",
   "execution_count": 133,
   "id": "built-durham",
   "metadata": {},
   "outputs": [],
   "source": [
    "model = KMeans(n_clusters=8)\n",
    "groups = model.fit_predict(rfm_raw)\n",
    "rfm['groups'] = groups"
   ]
  },
  {
   "cell_type": "markdown",
   "id": "other-metabolism",
   "metadata": {},
   "source": [
    "### Rozkład liczebności poszczególnych grup"
   ]
  },
  {
   "cell_type": "code",
   "execution_count": 134,
   "id": "hindu-brave",
   "metadata": {},
   "outputs": [
    {
     "name": "stdout",
     "output_type": "stream",
     "text": [
      "3   14.633\n",
      "5   13.931\n",
      "6   13.828\n",
      "4   13.674\n",
      "7   11.412\n",
      "1   11.343\n",
      "0   10.589\n",
      "2   10.589\n"
     ]
    }
   ],
   "source": [
    "print((rfm.groups.value_counts(normalize = True, sort = True) * 100).to_string())"
   ]
  },
  {
   "cell_type": "markdown",
   "id": "suited-chick",
   "metadata": {},
   "source": [
    "### Statystyki dla poszczególnych grup"
   ]
  },
  {
   "cell_type": "code",
   "execution_count": 135,
   "id": "binding-strength",
   "metadata": {},
   "outputs": [
    {
     "name": "stdout",
     "output_type": "stream",
     "text": [
      "       Recency Frequency MonetaryValue\n",
      "          mean      mean          mean\n",
      "groups                                \n",
      "0      185.968    13.366       241.653\n",
      "1       77.238   285.053      5289.246\n",
      "2       35.382    28.476       520.874\n",
      "3      403.622    39.064       583.993\n",
      "4       35.308    80.129      1715.137\n",
      "5        9.940   478.845     11940.924\n",
      "6      280.981   102.230      2136.554\n",
      "7      530.466    10.479       225.890\n"
     ]
    }
   ],
   "source": [
    "print(rfm.groupby('groups').agg(['mean']))"
   ]
  },
  {
   "cell_type": "markdown",
   "id": "acquired-darwin",
   "metadata": {},
   "source": [
    "### Interpretacja powstałych grup"
   ]
  },
  {
   "cell_type": "markdown",
   "id": "sound-coverage",
   "metadata": {},
   "source": [
    "**Grupa 0** - klienci, którzy\n",
    "\n",
    "    * robią zakupy za małe kwoty\n",
    "    * kupują bardzo rzadko\n",
    "    * od dawna nie robili zakupów\n",
    "    \n",
    "**Grupa 1** - klienci, którzy\n",
    "\n",
    "    * robią zakupy za wysokie kwoty\n",
    "    * kupują często\n",
    "    * od dłuższego czasu nie robili zakupów\n",
    "    \n",
    "**Grupa 2** - klienci, którzy\n",
    "\n",
    "    * robią zakupy za umiarkowane kwoty\n",
    "    * kupują rzadko\n",
    "    * jakiś czas temu robili zakupy\n",
    "    \n",
    "**Grupa 3** - klienci, którzy\n",
    "\n",
    "    * robią zakupy za umiarkowane kwoty\n",
    "    * kupują rzadko\n",
    "    * od bardzo dawna nie robili zakupów\n",
    "    \n",
    "**Grupa 4** - klienci, którzy\n",
    "\n",
    "    * robią zakupy za niemałe kwoty\n",
    "    * kupują umiarkowanie często\n",
    "    * jakiś czas temu robili zakupy\n",
    "    \n",
    "**Grupa 5** - klienci, którzy\n",
    "\n",
    "    * robią zakupy za ogromne pieniądze\n",
    "    * kupują bardzo często\n",
    "    * niedawno robili zakupy\n",
    "    \n",
    "**Grupa 6** - klienci, którzy\n",
    "\n",
    "    * robią zakupy za niemałe kwoty\n",
    "    * kupują dosyć często\n",
    "    * od dawna nie robili zakupów\n",
    "    \n",
    "**Grupa 7** - klienci, którzy\n",
    "\n",
    "    * robią zakupy za bardzo małe kwoty\n",
    "    * kupują prawie nigdy\n",
    "    * od bardzo dawna nie robili zakupów"
   ]
  },
  {
   "cell_type": "markdown",
   "id": "likely-aside",
   "metadata": {},
   "source": [
    "## Wnioski"
   ]
  },
  {
   "cell_type": "markdown",
   "id": "mexican-singles",
   "metadata": {},
   "source": [
    "Moim zdaniem najlepszym modelem jest ten dla czterech bądź sześciu klastrów, zważywszy na fakt iż za konkretnymi grupami z pewnością będą szły jakieś akcje marketingowe. Podział na 8 grup byłby zbyt zagmatwany i ustalanie tylu akcji mogłoby przysporzyć problemu pracownikom działu marketingowego.\n",
    "\n",
    "Remigiusz Drobinski"
   ]
  }
 ],
 "metadata": {
  "kernelspec": {
   "display_name": "Python 3",
   "language": "python",
   "name": "python3"
  },
  "language_info": {
   "codemirror_mode": {
    "name": "ipython",
    "version": 3
   },
   "file_extension": ".py",
   "mimetype": "text/x-python",
   "name": "python",
   "nbconvert_exporter": "python",
   "pygments_lexer": "ipython3",
   "version": "3.9.2"
  }
 },
 "nbformat": 4,
 "nbformat_minor": 5
}
